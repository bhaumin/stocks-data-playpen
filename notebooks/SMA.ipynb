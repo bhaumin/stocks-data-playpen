{
 "cells": [
  {
   "cell_type": "code",
   "execution_count": 1,
   "metadata": {},
   "outputs": [],
   "source": [
    "import pandas as pd\n",
    "import matplotlib.pyplot as plt"
   ]
  },
  {
   "cell_type": "code",
   "execution_count": 3,
   "metadata": {},
   "outputs": [],
   "source": [
    "# Global vars\n",
    "trading_days_per_yr = 252\n",
    "ticker = '^GSPC'\n",
    "mkt = 'us'\n",
    "csv_path = f'{mkt}/{ticker}.csv'\n",
    "full_path = f'~/code/projects/stocks-data-playpen/data/csv/{csv_path}'"
   ]
  },
  {
   "cell_type": "code",
   "execution_count": 4,
   "metadata": {},
   "outputs": [
    {
     "data": {
      "text/plain": [
       "(23228, 7)"
      ]
     },
     "execution_count": 4,
     "metadata": {},
     "output_type": "execute_result"
    }
   ],
   "source": [
    "# Part 1: Get the data\n",
    "df = pd.read_csv(f\"{full_path}\")\n",
    "df.columns = df.columns.str.strip()\n",
    "\n",
    "df.shape"
   ]
  },
  {
   "cell_type": "code",
   "execution_count": 5,
   "metadata": {},
   "outputs": [],
   "source": [
    "# Part 2: Calculate the inputs that go into the model\n",
    "df['% change'] = df['Close'].pct_change()\n",
    "df['200 sma'] = df['Close'].rolling(window=200).mean().round(5)\n",
    "df['50 sma'] = df['Close'].rolling(window=50).mean().round(5)"
   ]
  },
  {
   "cell_type": "markdown",
   "metadata": {},
   "source": [
    "### Model 1\n",
    "\n",
    "* Go long if the price is above the 200sma\n",
    "* Sell if the price falls below the 200sma\n",
    "\n",
    "### Model 2\n",
    "\n",
    "* Go long if the 50sma crosses above the 200sma or when the price is above 200sma\n",
    "* Sell if the 50sma falls below 200sma and the price is below the 200sma"
   ]
  },
  {
   "cell_type": "code",
   "execution_count": 6,
   "metadata": {},
   "outputs": [],
   "source": [
    "# Part 3: Models' Criteria\n",
    "\n",
    "df['M1'] = df['Close'] >= df['200 sma']\n",
    "df['M2'] = (df['50 sma'] >= df['200 sma']) | df['M1'] == True"
   ]
  },
  {
   "cell_type": "code",
   "execution_count": 7,
   "metadata": {},
   "outputs": [],
   "source": [
    "# Part 4: Calculate the models\n",
    "\n",
    "model_0 = 'Buy and hold'\n",
    "model_1 = '200 sma model'\n",
    "model_2 = '200 sma + crossover model'\n",
    "\n",
    "df[model_0] = 100*(1+df['% change']).cumprod()\n",
    "df[model_1] = 100*(1+df['M1'].shift(1)*df['% change']).cumprod()\n",
    "df[model_2] = 100*(1+df['M2'].shift(1)*df['% change']).cumprod()"
   ]
  },
  {
   "cell_type": "code",
   "execution_count": 8,
   "metadata": {},
   "outputs": [
    {
     "name": "stdout",
     "output_type": "stream",
     "text": [
      "Buy and hold yields an average of 5.582% per year\n",
      "200 sma model yields an average of 6.44% per year\n",
      "200 sma + crossover model yields an average of 6.836% per year\n"
     ]
    }
   ],
   "source": [
    "# Part 5: Calculate the models' returns\n",
    "\n",
    "years = (df['Date'].count()+1-200) / trading_days_per_yr\n",
    "\n",
    "# buy and hold's returns\n",
    "model_0_start = df['Close'].iloc[200]\n",
    "model_0_end = df['Close'].iloc[-1]\n",
    "model_0_avg_return = (model_0_end/model_0_start) ** (1/years)-1\n",
    "print(f'{model_0} yields an average of {(model_0_avg_return*100).round(3)}% per year')\n",
    "\n",
    "# 200 sma model's returns\n",
    "model_1_start = df[model_1].iloc[200]\n",
    "model_1_end = df[model_1].iloc[-1]\n",
    "model_1_avg_return = (model_1_end/model_1_start) ** (1/years)-1\n",
    "print(f'{model_1} yields an average of {(model_1_avg_return*100).round(3)}% per year')\n",
    "\n",
    "# 200 sma + crossover model's returns\n",
    "model_2_start = df[model_2].iloc[200]\n",
    "model_2_end = df[model_2].iloc[-1]\n",
    "model_2_avg_return = (model_2_end/model_2_start) ** (1/years)-1\n",
    "print(f'{model_2} yields an average of {(model_2_avg_return*100).round(3)}% per year')\n",
    "\n"
   ]
  },
  {
   "cell_type": "code",
   "execution_count": 9,
   "metadata": {},
   "outputs": [
    {
     "data": {
      "text/plain": [
       "<matplotlib.axes._subplots.AxesSubplot at 0x7fccca65fc50>"
      ]
     },
     "execution_count": 9,
     "metadata": {},
     "output_type": "execute_result"
    },
    {
     "data": {
      "image/png": "[encoded data removed]",
      "text/plain": [
       "<Figure size 432x288 with 1 Axes>"
      ]
     },
     "metadata": {
      "needs_background": "light"
     },
     "output_type": "display_data"
    }
   ],
   "source": [
    "# Part 6: Plot the models\n",
    "\n",
    "df[[model_0, model_1, model_2]].plot(grid=True, kind='line', title='Different models', logy=True)"
   ]
  },
  {
   "cell_type": "code",
   "execution_count": null,
   "metadata": {},
   "outputs": [],
   "source": []
  }
 ],
 "metadata": {
  "kernelspec": {
   "display_name": "Python 3",
   "language": "python",
   "name": "python3"
  },
  "language_info": {
   "codemirror_mode": {
    "name": "ipython",
    "version": 3
   },
   "file_extension": ".py",
   "mimetype": "text/x-python",
   "name": "python",
   "nbconvert_exporter": "python",
   "pygments_lexer": "ipython3",
   "version": "3.7.4"
  }
 },
 "nbformat": 4,
 "nbformat_minor": 2
}
